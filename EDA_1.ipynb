{
 "cells": [
  {
   "cell_type": "code",
   "execution_count": 1,
   "id": "b75646cb-528c-4712-888e-e141251bd7c8",
   "metadata": {},
   "outputs": [],
   "source": [
    "import pandas as pd"
   ]
  },
  {
   "cell_type": "code",
   "execution_count": 9,
   "id": "bcccd11f-f86b-4556-9468-f2216dbe617f",
   "metadata": {},
   "outputs": [
    {
     "data": {
      "text/html": [
       "<div>\n",
       "<style scoped>\n",
       "    .dataframe tbody tr th:only-of-type {\n",
       "        vertical-align: middle;\n",
       "    }\n",
       "\n",
       "    .dataframe tbody tr th {\n",
       "        vertical-align: top;\n",
       "    }\n",
       "\n",
       "    .dataframe thead th {\n",
       "        text-align: right;\n",
       "    }\n",
       "</style>\n",
       "<table border=\"1\" class=\"dataframe\">\n",
       "  <thead>\n",
       "    <tr style=\"text-align: right;\">\n",
       "      <th></th>\n",
       "    </tr>\n",
       "  </thead>\n",
       "  <tbody>\n",
       "  </tbody>\n",
       "</table>\n",
       "</div>"
      ],
      "text/plain": [
       "Empty DataFrame\n",
       "Columns: []\n",
       "Index: []"
      ]
     },
     "execution_count": 9,
     "metadata": {},
     "output_type": "execute_result"
    }
   ],
   "source": [
    "d1=pd.DataFrame()\n",
    "d1"
   ]
  },
  {
   "cell_type": "code",
   "execution_count": 12,
   "id": "8b10b84b-8037-463d-a993-12d5d04cb95d",
   "metadata": {},
   "outputs": [
    {
     "data": {
      "text/plain": [
       "pandas.core.frame.DataFrame"
      ]
     },
     "execution_count": 12,
     "metadata": {},
     "output_type": "execute_result"
    }
   ],
   "source": [
    "type(d1)"
   ]
  },
  {
   "cell_type": "code",
   "execution_count": 19,
   "id": "fe240401-dd28-49a3-bee9-8518e32994ac",
   "metadata": {},
   "outputs": [
    {
     "data": {
      "text/html": [
       "<div>\n",
       "<style scoped>\n",
       "    .dataframe tbody tr th:only-of-type {\n",
       "        vertical-align: middle;\n",
       "    }\n",
       "\n",
       "    .dataframe tbody tr th {\n",
       "        vertical-align: top;\n",
       "    }\n",
       "\n",
       "    .dataframe thead th {\n",
       "        text-align: right;\n",
       "    }\n",
       "</style>\n",
       "<table border=\"1\" class=\"dataframe\">\n",
       "  <thead>\n",
       "    <tr style=\"text-align: right;\">\n",
       "      <th></th>\n",
       "      <th>0</th>\n",
       "      <th>1</th>\n",
       "      <th>2</th>\n",
       "      <th>3</th>\n",
       "      <th>4</th>\n",
       "    </tr>\n",
       "  </thead>\n",
       "  <tbody>\n",
       "    <tr>\n",
       "      <th>0</th>\n",
       "      <td>1</td>\n",
       "      <td>Azad</td>\n",
       "      <td>25</td>\n",
       "      <td>data science</td>\n",
       "      <td>hyd</td>\n",
       "    </tr>\n",
       "    <tr>\n",
       "      <th>1</th>\n",
       "      <td>2</td>\n",
       "      <td>sartaz</td>\n",
       "      <td>30</td>\n",
       "      <td>data engineer</td>\n",
       "      <td>blr</td>\n",
       "    </tr>\n",
       "    <tr>\n",
       "      <th>2</th>\n",
       "      <td>3</td>\n",
       "      <td>sarfraz</td>\n",
       "      <td>35</td>\n",
       "      <td>manager</td>\n",
       "      <td>mum</td>\n",
       "    </tr>\n",
       "    <tr>\n",
       "      <th>3</th>\n",
       "      <td>4</td>\n",
       "      <td>sohel</td>\n",
       "      <td>40</td>\n",
       "      <td>senior manager</td>\n",
       "      <td>kerla</td>\n",
       "    </tr>\n",
       "    <tr>\n",
       "      <th>4</th>\n",
       "      <td>5</td>\n",
       "      <td>shahrukh</td>\n",
       "      <td>45</td>\n",
       "      <td>boss</td>\n",
       "      <td>dl</td>\n",
       "    </tr>\n",
       "  </tbody>\n",
       "</table>\n",
       "</div>"
      ],
      "text/plain": [
       "   0         1   2               3      4\n",
       "0  1      Azad  25    data science    hyd\n",
       "1  2    sartaz  30   data engineer    blr\n",
       "2  3   sarfraz  35         manager    mum\n",
       "3  4     sohel  40  senior manager  kerla\n",
       "4  5  shahrukh  45            boss     dl"
      ]
     },
     "execution_count": 19,
     "metadata": {},
     "output_type": "execute_result"
    }
   ],
   "source": [
    "Roll_no=[1,2,3,4,5]\n",
    "name=['Azad', 'sartaz', 'sarfraz', 'sohel', 'shahrukh']\n",
    "post = ['data science','data engineer','manager','senior manager','boss']\n",
    "city=['hyd', 'blr','mum', 'kerla','dl']\n",
    "age=[25, 30, 35,40,45]\n",
    "pd.DataFrame(zip(Roll_no,name,age,post,city))"
   ]
  },
  {
   "cell_type": "code",
   "execution_count": 28,
   "id": "949a5860-482f-4478-9ba8-d0c44dc94e57",
   "metadata": {},
   "outputs": [
    {
     "data": {
      "text/html": [
       "<div>\n",
       "<style scoped>\n",
       "    .dataframe tbody tr th:only-of-type {\n",
       "        vertical-align: middle;\n",
       "    }\n",
       "\n",
       "    .dataframe tbody tr th {\n",
       "        vertical-align: top;\n",
       "    }\n",
       "\n",
       "    .dataframe thead th {\n",
       "        text-align: right;\n",
       "    }\n",
       "</style>\n",
       "<table border=\"1\" class=\"dataframe\">\n",
       "  <thead>\n",
       "    <tr style=\"text-align: right;\">\n",
       "      <th></th>\n",
       "      <th>Roll_no</th>\n",
       "      <th>name</th>\n",
       "      <th>age</th>\n",
       "      <th>post</th>\n",
       "      <th>city</th>\n",
       "    </tr>\n",
       "  </thead>\n",
       "  <tbody>\n",
       "    <tr>\n",
       "      <th>0</th>\n",
       "      <td>1</td>\n",
       "      <td>Azad</td>\n",
       "      <td>25</td>\n",
       "      <td>data science</td>\n",
       "      <td>hyd</td>\n",
       "    </tr>\n",
       "    <tr>\n",
       "      <th>1</th>\n",
       "      <td>2</td>\n",
       "      <td>sartaz</td>\n",
       "      <td>30</td>\n",
       "      <td>data engineer</td>\n",
       "      <td>blr</td>\n",
       "    </tr>\n",
       "    <tr>\n",
       "      <th>2</th>\n",
       "      <td>3</td>\n",
       "      <td>sarfraz</td>\n",
       "      <td>35</td>\n",
       "      <td>manager</td>\n",
       "      <td>mum</td>\n",
       "    </tr>\n",
       "    <tr>\n",
       "      <th>3</th>\n",
       "      <td>4</td>\n",
       "      <td>sohel</td>\n",
       "      <td>40</td>\n",
       "      <td>senior manager</td>\n",
       "      <td>kerla</td>\n",
       "    </tr>\n",
       "    <tr>\n",
       "      <th>4</th>\n",
       "      <td>5</td>\n",
       "      <td>shahrukh</td>\n",
       "      <td>45</td>\n",
       "      <td>boss</td>\n",
       "      <td>dl</td>\n",
       "    </tr>\n",
       "  </tbody>\n",
       "</table>\n",
       "</div>"
      ],
      "text/plain": [
       "   Roll_no      name  age            post   city\n",
       "0        1      Azad   25    data science    hyd\n",
       "1        2    sartaz   30   data engineer    blr\n",
       "2        3   sarfraz   35         manager    mum\n",
       "3        4     sohel   40  senior manager  kerla\n",
       "4        5  shahrukh   45            boss     dl"
      ]
     },
     "execution_count": 28,
     "metadata": {},
     "output_type": "execute_result"
    }
   ],
   "source": [
    "import pandas as pd\n",
    "Roll_no=[1,2,3,4,5]\n",
    "name=['Azad', 'sartaz', 'sarfraz', 'sohel', 'shahrukh']\n",
    "age=[25, 30, 35,40,45]\n",
    "post = ['data science','data engineer','manager','senior manager','boss']\n",
    "city=['hyd', 'blr','mum', 'kerla','dl']\n",
    "data1=zip(Roll_no,name,age,post,city)\n",
    "pd.DataFrame(data1,\n",
    "            columns=['Roll_no','name','age','post','city'])          "
   ]
  },
  {
   "cell_type": "code",
   "execution_count": 35,
   "id": "830d70d3-32b2-4f16-8cdb-9ac3f1980bbe",
   "metadata": {},
   "outputs": [
    {
     "data": {
      "text/html": [
       "<div>\n",
       "<style scoped>\n",
       "    .dataframe tbody tr th:only-of-type {\n",
       "        vertical-align: middle;\n",
       "    }\n",
       "\n",
       "    .dataframe tbody tr th {\n",
       "        vertical-align: top;\n",
       "    }\n",
       "\n",
       "    .dataframe thead th {\n",
       "        text-align: right;\n",
       "    }\n",
       "</style>\n",
       "<table border=\"1\" class=\"dataframe\">\n",
       "  <thead>\n",
       "    <tr style=\"text-align: right;\">\n",
       "      <th></th>\n",
       "      <th>Roll_no</th>\n",
       "      <th>name</th>\n",
       "      <th>age</th>\n",
       "      <th>post</th>\n",
       "      <th>city</th>\n",
       "    </tr>\n",
       "  </thead>\n",
       "  <tbody>\n",
       "    <tr>\n",
       "      <th>0</th>\n",
       "      <td>1</td>\n",
       "      <td>Azad</td>\n",
       "      <td>25</td>\n",
       "      <td>data science</td>\n",
       "      <td>hyd</td>\n",
       "    </tr>\n",
       "    <tr>\n",
       "      <th>1</th>\n",
       "      <td>2</td>\n",
       "      <td>sartaz</td>\n",
       "      <td>30</td>\n",
       "      <td>data engineer</td>\n",
       "      <td>blr</td>\n",
       "    </tr>\n",
       "    <tr>\n",
       "      <th>2</th>\n",
       "      <td>3</td>\n",
       "      <td>sarfraz</td>\n",
       "      <td>35</td>\n",
       "      <td>manager</td>\n",
       "      <td>mum</td>\n",
       "    </tr>\n",
       "    <tr>\n",
       "      <th>3</th>\n",
       "      <td>4</td>\n",
       "      <td>sohel</td>\n",
       "      <td>40</td>\n",
       "      <td>senior manager</td>\n",
       "      <td>kerla</td>\n",
       "    </tr>\n",
       "    <tr>\n",
       "      <th>4</th>\n",
       "      <td>5</td>\n",
       "      <td>shahrukh</td>\n",
       "      <td>45</td>\n",
       "      <td>boss</td>\n",
       "      <td>dl</td>\n",
       "    </tr>\n",
       "  </tbody>\n",
       "</table>\n",
       "</div>"
      ],
      "text/plain": [
       "   Roll_no      name  age            post   city\n",
       "0        1      Azad   25    data science    hyd\n",
       "1        2    sartaz   30   data engineer    blr\n",
       "2        3   sarfraz   35         manager    mum\n",
       "3        4     sohel   40  senior manager  kerla\n",
       "4        5  shahrukh   45            boss     dl"
      ]
     },
     "execution_count": 35,
     "metadata": {},
     "output_type": "execute_result"
    }
   ],
   "source": [
    "import pandas as pd\n",
    "Roll_no=[1,2,3,4,5]\n",
    "name=['Azad', 'sartaz', 'sarfraz', 'sohel', 'shahrukh']\n",
    "age=[25, 30, 35,40,45]\n",
    "post = ['data science','data engineer','manager','senior manager','boss']\n",
    "city=['hyd', 'blr','mum', 'kerla','dl']\n",
    "data=zip(Roll_no,name,age,post,city)\n",
    "cols=['Roll_no','name','age','post','city']\n",
    "pd.DataFrame(data,\n",
    "             columns=cols)"
   ]
  },
  {
   "cell_type": "code",
   "execution_count": 38,
   "id": "560c97f1-5159-41f7-ad6e-6df3565ad2d0",
   "metadata": {},
   "outputs": [
    {
     "data": {
      "text/html": [
       "<div>\n",
       "<style scoped>\n",
       "    .dataframe tbody tr th:only-of-type {\n",
       "        vertical-align: middle;\n",
       "    }\n",
       "\n",
       "    .dataframe tbody tr th {\n",
       "        vertical-align: top;\n",
       "    }\n",
       "\n",
       "    .dataframe thead th {\n",
       "        text-align: right;\n",
       "    }\n",
       "</style>\n",
       "<table border=\"1\" class=\"dataframe\">\n",
       "  <thead>\n",
       "    <tr style=\"text-align: right;\">\n",
       "      <th></th>\n",
       "      <th>Roll_no</th>\n",
       "      <th>name</th>\n",
       "      <th>age</th>\n",
       "      <th>post</th>\n",
       "      <th>city</th>\n",
       "    </tr>\n",
       "  </thead>\n",
       "  <tbody>\n",
       "    <tr>\n",
       "      <th>A</th>\n",
       "      <td>1</td>\n",
       "      <td>Azad</td>\n",
       "      <td>25</td>\n",
       "      <td>data science</td>\n",
       "      <td>hyd</td>\n",
       "    </tr>\n",
       "    <tr>\n",
       "      <th>B</th>\n",
       "      <td>2</td>\n",
       "      <td>sartaz</td>\n",
       "      <td>30</td>\n",
       "      <td>data engineer</td>\n",
       "      <td>blr</td>\n",
       "    </tr>\n",
       "    <tr>\n",
       "      <th>C</th>\n",
       "      <td>3</td>\n",
       "      <td>sarfraz</td>\n",
       "      <td>35</td>\n",
       "      <td>manager</td>\n",
       "      <td>mum</td>\n",
       "    </tr>\n",
       "    <tr>\n",
       "      <th>D</th>\n",
       "      <td>4</td>\n",
       "      <td>sohel</td>\n",
       "      <td>40</td>\n",
       "      <td>senior manager</td>\n",
       "      <td>kerla</td>\n",
       "    </tr>\n",
       "    <tr>\n",
       "      <th>E</th>\n",
       "      <td>5</td>\n",
       "      <td>shahrukh</td>\n",
       "      <td>45</td>\n",
       "      <td>boss</td>\n",
       "      <td>dl</td>\n",
       "    </tr>\n",
       "  </tbody>\n",
       "</table>\n",
       "</div>"
      ],
      "text/plain": [
       "   Roll_no      name  age            post   city\n",
       "A        1      Azad   25    data science    hyd\n",
       "B        2    sartaz   30   data engineer    blr\n",
       "C        3   sarfraz   35         manager    mum\n",
       "D        4     sohel   40  senior manager  kerla\n",
       "E        5  shahrukh   45            boss     dl"
      ]
     },
     "execution_count": 38,
     "metadata": {},
     "output_type": "execute_result"
    }
   ],
   "source": [
    "import pandas as pd\n",
    "Roll_no=[1,2,3,4,5]\n",
    "name=['Azad', 'sartaz', 'sarfraz', 'sohel', 'shahrukh']\n",
    "age=[25, 30, 35,40,45]\n",
    "post = ['data science','data engineer','manager','senior manager','boss']\n",
    "city=['hyd', 'blr','mum', 'kerla','dl']\n",
    "data=zip(Roll_no,name,age,post,city)\n",
    "ix=['A','B','C','D','E']\n",
    "cols=['Roll_no','name','age','post','city']\n",
    "pd.DataFrame(data,\n",
    "             index=ix,\n",
    "             columns=cols)"
   ]
  },
  {
   "cell_type": "code",
   "execution_count": 1,
   "id": "eb331342-d75e-4f88-86b4-c351a0664a26",
   "metadata": {},
   "outputs": [],
   "source": [
    "import pandas as pd"
   ]
  },
  {
   "cell_type": "code",
   "execution_count": 3,
   "id": "05e7fcaf-ec88-4c29-8c1b-9fd3db934a1b",
   "metadata": {},
   "outputs": [
    {
     "data": {
      "text/html": [
       "<div>\n",
       "<style scoped>\n",
       "    .dataframe tbody tr th:only-of-type {\n",
       "        vertical-align: middle;\n",
       "    }\n",
       "\n",
       "    .dataframe tbody tr th {\n",
       "        vertical-align: top;\n",
       "    }\n",
       "\n",
       "    .dataframe thead th {\n",
       "        text-align: right;\n",
       "    }\n",
       "</style>\n",
       "<table border=\"1\" class=\"dataframe\">\n",
       "  <thead>\n",
       "    <tr style=\"text-align: right;\">\n",
       "      <th></th>\n",
       "    </tr>\n",
       "  </thead>\n",
       "  <tbody>\n",
       "  </tbody>\n",
       "</table>\n",
       "</div>"
      ],
      "text/plain": [
       "Empty DataFrame\n",
       "Columns: []\n",
       "Index: []"
      ]
     },
     "execution_count": 3,
     "metadata": {},
     "output_type": "execute_result"
    }
   ],
   "source": [
    "d1=pd.DataFrame()\n",
    "d1"
   ]
  },
  {
   "cell_type": "code",
   "execution_count": 1,
   "id": "a63960f5-1be3-46d6-a2ff-d109dda61dfa",
   "metadata": {},
   "outputs": [
    {
     "name": "stdout",
     "output_type": "stream",
     "text": [
      "50\n"
     ]
    }
   ],
   "source": [
    "a=20\n",
    "b=30\n",
    "c=a+b\n",
    "print(c)"
   ]
  },
  {
   "cell_type": "code",
   "execution_count": null,
   "id": "a3887b2c-2af1-47e9-9da5-72c846e5d558",
   "metadata": {},
   "outputs": [],
   "source": []
  }
 ],
 "metadata": {
  "kernelspec": {
   "display_name": "Python 3 (ipykernel)",
   "language": "python",
   "name": "python3"
  },
  "language_info": {
   "codemirror_mode": {
    "name": "ipython",
    "version": 3
   },
   "file_extension": ".py",
   "mimetype": "text/x-python",
   "name": "python",
   "nbconvert_exporter": "python",
   "pygments_lexer": "ipython3",
   "version": "3.11.7"
  }
 },
 "nbformat": 4,
 "nbformat_minor": 5
}
